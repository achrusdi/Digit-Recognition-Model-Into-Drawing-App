{
 "cells": [
  {
   "cell_type": "code",
   "execution_count": 2,
   "metadata": {},
   "outputs": [],
   "source": [
    "from tensorflow import keras\n",
    "from sklearn.metrics import classification_report\n",
    "import numpy as np"
   ]
  },
  {
   "cell_type": "code",
   "execution_count": 3,
   "metadata": {},
   "outputs": [],
   "source": [
    "# Load data provided by keras\n",
    "data = keras.datasets.mnist\n",
    "(x_train, y_train), (x_test, y_test) = data.load_data()"
   ]
  },
  {
   "cell_type": "code",
   "execution_count": 4,
   "metadata": {},
   "outputs": [],
   "source": [
    "# Create model using sequential API\n",
    "model = keras.Sequential([\n",
    "    # Input Layers\n",
    "    keras.layers.Flatten(input_shape=(28, 28, )),\n",
    "\t# Hidden Layers\n",
    "    keras.layers.Dense(128, activation='relu'),\n",
    "    keras.layers.Dense(128, activation='relu'),\n",
    "    keras.layers.Dense(128, activation='relu'),\n",
    "    keras.layers.Dense(128, activation='relu'),\n",
    "    keras.layers.Dense(128, activation='relu'),\n",
    "    keras.layers.Dropout(0.5),\n",
    "    # Output Layers\n",
    "    keras.layers.Dense(10, activation='softmax')\n",
    "])"
   ]
  },
  {
   "cell_type": "code",
   "execution_count": 5,
   "metadata": {},
   "outputs": [],
   "source": [
    "# Compile model\n",
    "model.compile(\n",
    "    optimizer = keras.optimizers.Adam(),\n",
    "    loss = keras.losses.SparseCategoricalCrossentropy(),\n",
    "    metrics = ['accuracy']\n",
    ")"
   ]
  },
  {
   "cell_type": "code",
   "execution_count": 6,
   "metadata": {},
   "outputs": [
    {
     "name": "stdout",
     "output_type": "stream",
     "text": [
      "Epoch 1/50\n",
      "1875/1875 [==============================] - 16s 8ms/step - loss: 0.7184 - accuracy: 0.8441\n",
      "Epoch 2/50\n",
      "1875/1875 [==============================] - 15s 8ms/step - loss: 0.2497 - accuracy: 0.9358\n",
      "Epoch 3/50\n",
      "1875/1875 [==============================] - 14s 7ms/step - loss: 0.2013 - accuracy: 0.9486\n",
      "Epoch 4/50\n",
      "1875/1875 [==============================] - 13s 7ms/step - loss: 0.1708 - accuracy: 0.9562\n",
      "Epoch 5/50\n",
      "1875/1875 [==============================] - 16s 8ms/step - loss: 0.1518 - accuracy: 0.9623\n",
      "Epoch 6/50\n",
      "1875/1875 [==============================] - 14s 8ms/step - loss: 0.1354 - accuracy: 0.9674\n",
      "Epoch 7/50\n",
      "1875/1875 [==============================] - 13s 7ms/step - loss: 0.1246 - accuracy: 0.9696\n",
      "Epoch 8/50\n",
      "1875/1875 [==============================] - 13s 7ms/step - loss: 0.1138 - accuracy: 0.9722\n",
      "Epoch 9/50\n",
      "1875/1875 [==============================] - 13s 7ms/step - loss: 0.1092 - accuracy: 0.9740\n",
      "Epoch 10/50\n",
      "1875/1875 [==============================] - 13s 7ms/step - loss: 0.0938 - accuracy: 0.9764\n",
      "Epoch 11/50\n",
      "1875/1875 [==============================] - 14s 8ms/step - loss: 0.0935 - accuracy: 0.9776\n",
      "Epoch 12/50\n",
      "1875/1875 [==============================] - 14s 7ms/step - loss: 0.0873 - accuracy: 0.9799\n",
      "Epoch 13/50\n",
      "1875/1875 [==============================] - 18s 9ms/step - loss: 0.0815 - accuracy: 0.9795\n",
      "Epoch 14/50\n",
      "1875/1875 [==============================] - 14s 7ms/step - loss: 0.0856 - accuracy: 0.9803\n",
      "Epoch 15/50\n",
      "1875/1875 [==============================] - 16s 8ms/step - loss: 0.0776 - accuracy: 0.9812\n",
      "Epoch 16/50\n",
      "1875/1875 [==============================] - 20s 10ms/step - loss: 0.0744 - accuracy: 0.9824\n",
      "Epoch 17/50\n",
      "1875/1875 [==============================] - 19s 10ms/step - loss: 0.0745 - accuracy: 0.9837\n",
      "Epoch 18/50\n",
      "1875/1875 [==============================] - 16s 8ms/step - loss: 0.0765 - accuracy: 0.9838\n",
      "Epoch 19/50\n",
      "1875/1875 [==============================] - 14s 7ms/step - loss: 0.0700 - accuracy: 0.9842\n",
      "Epoch 20/50\n",
      "1875/1875 [==============================] - 15s 8ms/step - loss: 0.0657 - accuracy: 0.9859\n",
      "Epoch 21/50\n",
      "1875/1875 [==============================] - 18s 9ms/step - loss: 0.0644 - accuracy: 0.9857\n",
      "Epoch 22/50\n",
      "1875/1875 [==============================] - 17s 9ms/step - loss: 0.0623 - accuracy: 0.9866\n",
      "Epoch 23/50\n",
      "1875/1875 [==============================] - 15s 8ms/step - loss: 0.0638 - accuracy: 0.9856\n",
      "Epoch 24/50\n",
      "1875/1875 [==============================] - 15s 8ms/step - loss: 0.0678 - accuracy: 0.9855\n",
      "Epoch 25/50\n",
      "1875/1875 [==============================] - 15s 8ms/step - loss: 0.0587 - accuracy: 0.9863\n",
      "Epoch 26/50\n",
      "1875/1875 [==============================] - 15s 8ms/step - loss: 0.0646 - accuracy: 0.9868\n",
      "Epoch 27/50\n",
      "1875/1875 [==============================] - 15s 8ms/step - loss: 0.0627 - accuracy: 0.9854\n",
      "Epoch 28/50\n",
      "1875/1875 [==============================] - 14s 7ms/step - loss: 0.0532 - accuracy: 0.9878\n",
      "Epoch 29/50\n",
      "1875/1875 [==============================] - 13s 7ms/step - loss: 0.0548 - accuracy: 0.9883\n",
      "Epoch 30/50\n",
      "1875/1875 [==============================] - 15s 8ms/step - loss: 0.0762 - accuracy: 0.9858\n",
      "Epoch 31/50\n",
      "1875/1875 [==============================] - 13s 7ms/step - loss: 0.0567 - accuracy: 0.9877\n",
      "Epoch 32/50\n",
      "1875/1875 [==============================] - 17s 9ms/step - loss: 0.0552 - accuracy: 0.9884\n",
      "Epoch 33/50\n",
      "1875/1875 [==============================] - 14s 8ms/step - loss: 0.0573 - accuracy: 0.9885\n",
      "Epoch 34/50\n",
      "1875/1875 [==============================] - 14s 8ms/step - loss: 0.0538 - accuracy: 0.9891\n",
      "Epoch 35/50\n",
      "1875/1875 [==============================] - 15s 8ms/step - loss: 0.0639 - accuracy: 0.9869\n",
      "Epoch 36/50\n",
      "1875/1875 [==============================] - 16s 9ms/step - loss: 0.0567 - accuracy: 0.9879\n",
      "Epoch 37/50\n",
      "1875/1875 [==============================] - 14s 8ms/step - loss: 0.0502 - accuracy: 0.9893\n",
      "Epoch 38/50\n",
      "1875/1875 [==============================] - 13s 7ms/step - loss: 0.0592 - accuracy: 0.9877\n",
      "Epoch 39/50\n",
      "1875/1875 [==============================] - 15s 8ms/step - loss: 0.0549 - accuracy: 0.9891\n",
      "Epoch 40/50\n",
      "1875/1875 [==============================] - 13s 7ms/step - loss: 0.0706 - accuracy: 0.9873\n",
      "Epoch 41/50\n",
      "1875/1875 [==============================] - 15s 8ms/step - loss: 0.0558 - accuracy: 0.9891\n",
      "Epoch 42/50\n",
      "1875/1875 [==============================] - 14s 7ms/step - loss: 0.0525 - accuracy: 0.9892\n",
      "Epoch 43/50\n",
      "1875/1875 [==============================] - 14s 8ms/step - loss: 0.0630 - accuracy: 0.9879\n",
      "Epoch 44/50\n",
      "1875/1875 [==============================] - 14s 8ms/step - loss: 0.0483 - accuracy: 0.9909\n",
      "Epoch 45/50\n",
      "1875/1875 [==============================] - 14s 8ms/step - loss: 0.0624 - accuracy: 0.9878\n",
      "Epoch 46/50\n",
      "1875/1875 [==============================] - 13s 7ms/step - loss: 0.0551 - accuracy: 0.9890\n",
      "Epoch 47/50\n",
      "1875/1875 [==============================] - 15s 8ms/step - loss: 0.0452 - accuracy: 0.9907\n",
      "Epoch 48/50\n",
      "1875/1875 [==============================] - 15s 8ms/step - loss: 0.0558 - accuracy: 0.9898\n",
      "Epoch 49/50\n",
      "1875/1875 [==============================] - 14s 7ms/step - loss: 0.0712 - accuracy: 0.9871\n",
      "Epoch 50/50\n",
      "1875/1875 [==============================] - 14s 8ms/step - loss: 0.0470 - accuracy: 0.9898\n"
     ]
    },
    {
     "data": {
      "text/plain": [
       "<keras.callbacks.History at 0x18127eb1570>"
      ]
     },
     "execution_count": 6,
     "metadata": {},
     "output_type": "execute_result"
    }
   ],
   "source": [
    "# Model training\n",
    "model.fit(x_train, y_train, verbose=1, epochs=50, batch_size=32)"
   ]
  },
  {
   "cell_type": "code",
   "execution_count": 7,
   "metadata": {},
   "outputs": [
    {
     "name": "stdout",
     "output_type": "stream",
     "text": [
      "313/313 [==============================] - 3s 7ms/step\n"
     ]
    }
   ],
   "source": [
    "# Make prediction from test data\n",
    "prediction_probability = model.predict(x_test)\n",
    "prediction = np.array([np.argmax(pred) for pred in prediction_probability])"
   ]
  },
  {
   "cell_type": "code",
   "execution_count": 8,
   "metadata": {},
   "outputs": [
    {
     "name": "stdout",
     "output_type": "stream",
     "text": [
      "              precision    recall  f1-score   support\n",
      "\n",
      "           0       0.99      0.98      0.99       980\n",
      "           1       0.99      0.99      0.99      1135\n",
      "           2       0.99      0.97      0.98      1032\n",
      "           3       0.95      0.98      0.97      1010\n",
      "           4       0.98      0.98      0.98       982\n",
      "           5       0.98      0.96      0.97       892\n",
      "           6       0.98      0.98      0.98       958\n",
      "           7       0.98      0.97      0.98      1028\n",
      "           8       0.93      0.97      0.95       974\n",
      "           9       0.98      0.97      0.97      1009\n",
      "\n",
      "    accuracy                           0.98     10000\n",
      "   macro avg       0.98      0.97      0.97     10000\n",
      "weighted avg       0.98      0.98      0.98     10000\n",
      "\n"
     ]
    }
   ],
   "source": [
    "# Display the model performance\n",
    "print(classification_report(y_test, prediction))"
   ]
  },
  {
   "cell_type": "code",
   "execution_count": 9,
   "metadata": {},
   "outputs": [],
   "source": [
    "# Save model\n",
    "model.save('mnist_classification.h5')"
   ]
  }
 ],
 "metadata": {
  "kernelspec": {
   "display_name": "ML",
   "language": "python",
   "name": "python3"
  },
  "language_info": {
   "codemirror_mode": {
    "name": "ipython",
    "version": 3
   },
   "file_extension": ".py",
   "mimetype": "text/x-python",
   "name": "python",
   "nbconvert_exporter": "python",
   "pygments_lexer": "ipython3",
   "version": "3.10.13"
  }
 },
 "nbformat": 4,
 "nbformat_minor": 2
}
